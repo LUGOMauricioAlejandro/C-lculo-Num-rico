{
 "cells": [
  {
   "cell_type": "code",
   "execution_count": 2,
   "metadata": {},
   "outputs": [
    {
     "name": "stdout",
     "output_type": "stream",
     "text": [
      "L = \n",
      "array([[ 1. ,  0. ,  0. ],\n",
      "       [-0.5,  1. ,  0. ],\n",
      "       [ 1.5,  0. ,  1. ]])\n",
      "U = \n",
      "array([[ 2.,  1., -3.],\n",
      "       [ 0.,  3.,  0.],\n",
      "       [ 0.,  0.,  1.]])\n",
      "L * U =\n",
      "array([[ 2. ,  1. , -3. ],\n",
      "       [-1. ,  2.5,  1.5],\n",
      "       [ 3. ,  1.5, -3.5]])\n",
      "Verificación:\n",
      "array([[ True,  True,  True],\n",
      "       [ True, False, False],\n",
      "       [ True, False, False]])\n"
     ]
    }
   ],
   "source": [
    "###################### DESCOMPOSICIÓN LU ######################################################\n",
    "import numpy as np\n",
    "import pprint\n",
    "\n",
    "\n",
    "def lu_fac(matriz):\n",
    "    A = np.array(matriz)\n",
    "    epsilon = np.finfo(np.float).eps\n",
    "    dims = A.shape\n",
    "    L = np.zeros(dims)\n",
    "    U = np.zeros(dims)\n",
    "    \n",
    "    for j in range(dims[0]): #pregunta la dim de la Matriz\n",
    "        if abs(A[j,j]) < epsilon:   #descomposición por pivote \n",
    "            print('ERROR: pivote nulo')\n",
    "            return None\n",
    "        L[j,j] = 1.  # diadonal principal de L con 1, para que la descomposición sea única\n",
    "        for i in range(j+1,dims[0]):\n",
    "            L[i,j] = A[i,j]/A[j,j]  # descomposiciín de L\n",
    "            for k in range(j+1,dims[0]):\n",
    "                A[i,k] = A[i,k] - L[i,j]*A[j,k]  #descomposicion U\n",
    "        for k in range(j,dims[0]):\n",
    "            U[j,k] = A[j,k] #gurda los valores en el array U\n",
    "    \n",
    "    return L, U\n",
    "\n",
    "# Ejercicion 1\n",
    "\n",
    "A = [[2,1,-3],[-1,3,2],[3,1,-3] ] #Matriz del ejercicio 1\n",
    "L, U = lu_fac(A)\n",
    "print('L = ')\n",
    "pprint.pprint(L) #imprime en forma de matriz L\n",
    "print('U = ')\n",
    "pprint.pprint(U) #imprime en forma de matriz U\n",
    "print('L * U =')\n",
    "pprint.pprint(np.dot(L,U)) #producto de la matriz L*U\n",
    "print(\"Verificación:\")\n",
    "pprint.pprint(np.dot(L,U) == A) #Verificación lógica de los resultados\n"
   ]
  },
  {
   "cell_type": "code",
   "execution_count": null,
   "metadata": {},
   "outputs": [],
   "source": []
  }
 ],
 "metadata": {
  "kernelspec": {
   "display_name": "Python 3",
   "language": "python",
   "name": "python3"
  },
  "language_info": {
   "codemirror_mode": {
    "name": "ipython",
    "version": 3
   },
   "file_extension": ".py",
   "mimetype": "text/x-python",
   "name": "python",
   "nbconvert_exporter": "python",
   "pygments_lexer": "ipython3",
   "version": "3.8.8"
  }
 },
 "nbformat": 4,
 "nbformat_minor": 4
}
